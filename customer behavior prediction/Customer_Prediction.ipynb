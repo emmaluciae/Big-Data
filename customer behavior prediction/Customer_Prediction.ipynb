{
 "cells": [
  {
   "cell_type": "markdown",
   "id": "8f986775",
   "metadata": {},
   "source": [
    "Objective: Create a machine learning model that predicts customer behavior on an e-commerce platform using real-time data streams to improve conversion rates and enhance customer experience."
   ]
  },
  {
   "cell_type": "code",
   "execution_count": 1,
   "id": "cad15e03",
   "metadata": {},
   "outputs": [],
   "source": [
    "#Libraries\n",
    "import pandas as pd\n",
    "from pathlib import Path\n",
    "import dask.dataframe as dd #too large for pandas to read so using dask\n",
    "\n",
    "from collections import defaultdict\n",
    "from collections import Counter\n",
    "\n",
    "import matplotlib.pyplot as plt\n",
    "\n",
    "from sklearn.model_selection import train_test_split\n",
    "from sklearn.ensemble import GradientBoostingClassifier\n",
    "from sklearn.metrics import classification_report, roc_auc_score\n",
    "from sklearn.preprocessing import StandardScaler\n",
    "\n",
    "import heapq\n",
    "from datetime import timedelta\n",
    "import joblib"
   ]
  },
  {
   "cell_type": "markdown",
   "id": "3d2e831d",
   "metadata": {},
   "source": [
    "Load Data and Data Processing"
   ]
  },
  {
   "cell_type": "code",
   "execution_count": 2,
   "id": "447368d1",
   "metadata": {},
   "outputs": [
    {
     "data": {
      "text/html": [
       "<div>\n",
       "<style scoped>\n",
       "    .dataframe tbody tr th:only-of-type {\n",
       "        vertical-align: middle;\n",
       "    }\n",
       "\n",
       "    .dataframe tbody tr th {\n",
       "        vertical-align: top;\n",
       "    }\n",
       "\n",
       "    .dataframe thead th {\n",
       "        text-align: right;\n",
       "    }\n",
       "</style>\n",
       "<table border=\"1\" class=\"dataframe\">\n",
       "  <thead>\n",
       "    <tr style=\"text-align: right;\">\n",
       "      <th></th>\n",
       "      <th>event_time</th>\n",
       "      <th>event_type</th>\n",
       "      <th>product_id</th>\n",
       "      <th>category_id</th>\n",
       "      <th>category_code</th>\n",
       "      <th>brand</th>\n",
       "      <th>price</th>\n",
       "      <th>user_id</th>\n",
       "      <th>user_session</th>\n",
       "    </tr>\n",
       "  </thead>\n",
       "  <tbody>\n",
       "    <tr>\n",
       "      <th>0</th>\n",
       "      <td>2019-11-01 00:00:00 UTC</td>\n",
       "      <td>view</td>\n",
       "      <td>1003461</td>\n",
       "      <td>2053013555631882655</td>\n",
       "      <td>electronics.smartphone</td>\n",
       "      <td>xiaomi</td>\n",
       "      <td>489.07</td>\n",
       "      <td>520088904</td>\n",
       "      <td>4d3b30da-a5e4-49df-b1a8-ba5943f1dd33</td>\n",
       "    </tr>\n",
       "    <tr>\n",
       "      <th>1</th>\n",
       "      <td>2019-11-01 00:00:00 UTC</td>\n",
       "      <td>view</td>\n",
       "      <td>5000088</td>\n",
       "      <td>2053013566100866035</td>\n",
       "      <td>appliances.sewing_machine</td>\n",
       "      <td>janome</td>\n",
       "      <td>293.65</td>\n",
       "      <td>530496790</td>\n",
       "      <td>8e5f4f83-366c-4f70-860e-ca7417414283</td>\n",
       "    </tr>\n",
       "    <tr>\n",
       "      <th>2</th>\n",
       "      <td>2019-11-01 00:00:01 UTC</td>\n",
       "      <td>view</td>\n",
       "      <td>17302664</td>\n",
       "      <td>2053013553853497655</td>\n",
       "      <td>NaN</td>\n",
       "      <td>creed</td>\n",
       "      <td>28.31</td>\n",
       "      <td>561587266</td>\n",
       "      <td>755422e7-9040-477b-9bd2-6a6e8fd97387</td>\n",
       "    </tr>\n",
       "    <tr>\n",
       "      <th>3</th>\n",
       "      <td>2019-11-01 00:00:01 UTC</td>\n",
       "      <td>view</td>\n",
       "      <td>3601530</td>\n",
       "      <td>2053013563810775923</td>\n",
       "      <td>appliances.kitchen.washer</td>\n",
       "      <td>lg</td>\n",
       "      <td>712.87</td>\n",
       "      <td>518085591</td>\n",
       "      <td>3bfb58cd-7892-48cc-8020-2f17e6de6e7f</td>\n",
       "    </tr>\n",
       "    <tr>\n",
       "      <th>4</th>\n",
       "      <td>2019-11-01 00:00:01 UTC</td>\n",
       "      <td>view</td>\n",
       "      <td>1004775</td>\n",
       "      <td>2053013555631882655</td>\n",
       "      <td>electronics.smartphone</td>\n",
       "      <td>xiaomi</td>\n",
       "      <td>183.27</td>\n",
       "      <td>558856683</td>\n",
       "      <td>313628f1-68b8-460d-84f6-cec7a8796ef2</td>\n",
       "    </tr>\n",
       "  </tbody>\n",
       "</table>\n",
       "</div>"
      ],
      "text/plain": [
       "                event_time event_type  product_id          category_id  \\\n",
       "0  2019-11-01 00:00:00 UTC       view     1003461  2053013555631882655   \n",
       "1  2019-11-01 00:00:00 UTC       view     5000088  2053013566100866035   \n",
       "2  2019-11-01 00:00:01 UTC       view    17302664  2053013553853497655   \n",
       "3  2019-11-01 00:00:01 UTC       view     3601530  2053013563810775923   \n",
       "4  2019-11-01 00:00:01 UTC       view     1004775  2053013555631882655   \n",
       "\n",
       "               category_code   brand   price    user_id  \\\n",
       "0     electronics.smartphone  xiaomi  489.07  520088904   \n",
       "1  appliances.sewing_machine  janome  293.65  530496790   \n",
       "2                        NaN   creed   28.31  561587266   \n",
       "3  appliances.kitchen.washer      lg  712.87  518085591   \n",
       "4     electronics.smartphone  xiaomi  183.27  558856683   \n",
       "\n",
       "                           user_session  \n",
       "0  4d3b30da-a5e4-49df-b1a8-ba5943f1dd33  \n",
       "1  8e5f4f83-366c-4f70-860e-ca7417414283  \n",
       "2  755422e7-9040-477b-9bd2-6a6e8fd97387  \n",
       "3  3bfb58cd-7892-48cc-8020-2f17e6de6e7f  \n",
       "4  313628f1-68b8-460d-84f6-cec7a8796ef2  "
      ]
     },
     "execution_count": 2,
     "metadata": {},
     "output_type": "execute_result"
    }
   ],
   "source": [
    "df = dd.read_csv('2019-Nov.csv')\n",
    "df.head(5)"
   ]
  },
  {
   "cell_type": "code",
   "execution_count": 3,
   "id": "ca572b5d",
   "metadata": {},
   "outputs": [
    {
     "data": {
      "text/plain": [
       "(Delayed('int-864eb7f9-2a93-4b64-ae39-1a89a9642286'), 9)"
      ]
     },
     "execution_count": 3,
     "metadata": {},
     "output_type": "execute_result"
    }
   ],
   "source": [
    "df.shape #only gave number of columns"
   ]
  },
  {
   "cell_type": "code",
   "execution_count": 4,
   "id": "698cb4d2",
   "metadata": {},
   "outputs": [
    {
     "data": {
      "text/plain": [
       "67501979"
      ]
     },
     "execution_count": 4,
     "metadata": {},
     "output_type": "execute_result"
    }
   ],
   "source": [
    "num_rows = df['event_type'].count().compute()\n",
    "num_rows"
   ]
  },
  {
   "cell_type": "code",
   "execution_count": 5,
   "id": "700e64ba",
   "metadata": {},
   "outputs": [],
   "source": [
    "def load_day_from_csv(csv_path: str, target_date: str, chunksize: int = 100_000) -> pd.DataFrame:\n",
    "    \"\"\"\n",
    "    Efficiently load only the rows from `csv_path` where event_time matches `target_date` (YYYY-MM-DD).\n",
    "    Stops early if data is sorted and target date is passed.\n",
    "    \"\"\"\n",
    "    chunks = []\n",
    "    for chunk in pd.read_csv(csv_path, chunksize=chunksize, parse_dates=['event_time'], date_parser=pd.to_datetime):\n",
    "        chunk['event_date'] = chunk['event_time'].dt.strftime('%Y-%m-%d')\n",
    "        \n",
    "        # If the latest date in this chunk is earlier than target, keep going\n",
    "        if chunk['event_date'].max() < target_date:\n",
    "            continue\n",
    "        \n",
    "        # If the earliest date in this chunk is after target, stop\n",
    "        if chunk['event_date'].min() > target_date:\n",
    "            break\n",
    "        \n",
    "        # Otherwise, extract matching rows\n",
    "        filtered = chunk[chunk['event_date'] == target_date]\n",
    "        if not filtered.empty:\n",
    "            chunks.append(filtered.drop(columns='event_date'))\n",
    "\n",
    "    return pd.concat(chunks, ignore_index=True) if chunks else pd.DataFrame()"
   ]
  },
  {
   "cell_type": "code",
   "execution_count": 6,
   "id": "53969535",
   "metadata": {},
   "outputs": [],
   "source": [
    "def shard_dataframe_by_user_suffix(df: pd.DataFrame, output_dir: str):\n",
    "    \"\"\"\n",
    "    Splits the DataFrame by user_id % 100 (remainder of division) and appends each group to {output_dir}/XX.csv\n",
    "    \"\"\"\n",
    "    if df.empty:\n",
    "        return\n",
    "    \n",
    "    df['suffix'] = df['user_id'] % 100\n",
    "    output_dir = Path(output_dir)\n",
    "    output_dir.mkdir(parents=True, exist_ok=True)\n",
    "\n",
    "    for suffix, group in df.groupby('suffix'):\n",
    "        out_path = output_dir / f\"{suffix:02d}.csv\"\n",
    "        group.drop(columns='suffix').to_csv(out_path, mode='a', index=False, header=not out_path.exists())\n"
   ]
  },
  {
   "cell_type": "code",
   "execution_count": 7,
   "id": "ed6feda3",
   "metadata": {},
   "outputs": [
    {
     "name": "stderr",
     "output_type": "stream",
     "text": [
      "C:\\Users\\emmal\\AppData\\Local\\Temp\\ipykernel_21816\\3097906396.py:7: FutureWarning: The argument 'date_parser' is deprecated and will be removed in a future version. Please use 'date_format' instead, or read your data in as 'object' dtype and then call 'to_datetime'.\n",
      "  for chunk in pd.read_csv(csv_path, chunksize=chunksize, parse_dates=['event_time'], date_parser=pd.to_datetime):\n"
     ]
    }
   ],
   "source": [
    "file = '2019-Nov.csv'\n",
    "day = \"2019-11-01\"\n",
    "df_day = load_day_from_csv(file, day)\n",
    "shard_dataframe_by_user_suffix(df_day, \"sharded_by_suffix\")"
   ]
  },
  {
   "cell_type": "markdown",
   "id": "4612ced1",
   "metadata": {},
   "source": [
    "How many unique customers in each chunk for Day 1?"
   ]
  },
  {
   "cell_type": "code",
   "execution_count": 8,
   "id": "75e0b5cf",
   "metadata": {},
   "outputs": [],
   "source": [
    "def count_unique_user_ids_per_csv(input_dir: str) -> dict:\n",
    "    \"\"\"\n",
    "    For each CSV file in `input_dir`, count the number of unique user_ids.\n",
    "    Returns a dictionary: {'00.csv': count, '01.csv': count, ...}\n",
    "    \"\"\"\n",
    "    input_path = Path(input_dir)\n",
    "    result = {}\n",
    "\n",
    "    for file in sorted(input_path.glob(\"*.csv\")):\n",
    "        try:\n",
    "            df = pd.read_csv(file, usecols=['user_id'])\n",
    "            unique_count = df['user_id'].nunique()\n",
    "            result[file.name] = unique_count\n",
    "        except Exception as e:\n",
    "            print(f\"Error processing {file.name}: {e}\")\n",
    "    \n",
    "    return result"
   ]
  },
  {
   "cell_type": "code",
   "execution_count": 9,
   "id": "87bb4bdb",
   "metadata": {},
   "outputs": [
    {
     "name": "stdout",
     "output_type": "stream",
     "text": [
      "00.csv: 2219 unique users\n",
      "01.csv: 2161 unique users\n",
      "02.csv: 2220 unique users\n",
      "03.csv: 2190 unique users\n",
      "04.csv: 2122 unique users\n",
      "05.csv: 2288 unique users\n",
      "06.csv: 2218 unique users\n",
      "07.csv: 2263 unique users\n",
      "08.csv: 2179 unique users\n",
      "09.csv: 2183 unique users\n",
      "10.csv: 2279 unique users\n",
      "11.csv: 2269 unique users\n",
      "12.csv: 2183 unique users\n",
      "13.csv: 2310 unique users\n",
      "14.csv: 2222 unique users\n",
      "15.csv: 2249 unique users\n",
      "16.csv: 2170 unique users\n",
      "17.csv: 2165 unique users\n",
      "18.csv: 2243 unique users\n",
      "19.csv: 2227 unique users\n",
      "20.csv: 2333 unique users\n",
      "21.csv: 2265 unique users\n",
      "22.csv: 2317 unique users\n",
      "23.csv: 2251 unique users\n",
      "24.csv: 2169 unique users\n",
      "25.csv: 2209 unique users\n",
      "26.csv: 2380 unique users\n",
      "27.csv: 2226 unique users\n",
      "28.csv: 2295 unique users\n",
      "29.csv: 2230 unique users\n",
      "30.csv: 2135 unique users\n",
      "31.csv: 2318 unique users\n",
      "32.csv: 2175 unique users\n",
      "33.csv: 2169 unique users\n",
      "34.csv: 2247 unique users\n",
      "35.csv: 2281 unique users\n",
      "36.csv: 2310 unique users\n",
      "37.csv: 2224 unique users\n",
      "38.csv: 2262 unique users\n",
      "39.csv: 2244 unique users\n",
      "40.csv: 2219 unique users\n",
      "41.csv: 2251 unique users\n",
      "42.csv: 2193 unique users\n",
      "43.csv: 2134 unique users\n",
      "44.csv: 2233 unique users\n",
      "45.csv: 2242 unique users\n",
      "46.csv: 2325 unique users\n",
      "47.csv: 2236 unique users\n",
      "48.csv: 2291 unique users\n",
      "49.csv: 2195 unique users\n",
      "50.csv: 2140 unique users\n",
      "51.csv: 2335 unique users\n",
      "52.csv: 2172 unique users\n",
      "53.csv: 2161 unique users\n",
      "54.csv: 2315 unique users\n",
      "55.csv: 2243 unique users\n",
      "56.csv: 2252 unique users\n",
      "57.csv: 2223 unique users\n",
      "58.csv: 2182 unique users\n",
      "59.csv: 2333 unique users\n",
      "60.csv: 2159 unique users\n",
      "61.csv: 2253 unique users\n",
      "62.csv: 2191 unique users\n",
      "63.csv: 2267 unique users\n",
      "64.csv: 2209 unique users\n",
      "65.csv: 2233 unique users\n",
      "66.csv: 2229 unique users\n",
      "67.csv: 2281 unique users\n",
      "68.csv: 2183 unique users\n",
      "69.csv: 2243 unique users\n",
      "70.csv: 2217 unique users\n",
      "71.csv: 2186 unique users\n",
      "72.csv: 2224 unique users\n",
      "73.csv: 2256 unique users\n",
      "74.csv: 2244 unique users\n",
      "75.csv: 2290 unique users\n",
      "76.csv: 2333 unique users\n",
      "77.csv: 2200 unique users\n",
      "78.csv: 2247 unique users\n",
      "79.csv: 2232 unique users\n",
      "80.csv: 2241 unique users\n",
      "81.csv: 2274 unique users\n",
      "82.csv: 2246 unique users\n",
      "83.csv: 2266 unique users\n",
      "84.csv: 2224 unique users\n",
      "85.csv: 2267 unique users\n",
      "86.csv: 2185 unique users\n",
      "87.csv: 2201 unique users\n",
      "88.csv: 2169 unique users\n",
      "89.csv: 2154 unique users\n",
      "90.csv: 2133 unique users\n",
      "91.csv: 2161 unique users\n",
      "92.csv: 2232 unique users\n",
      "93.csv: 2251 unique users\n",
      "94.csv: 2207 unique users\n",
      "95.csv: 2175 unique users\n",
      "96.csv: 2258 unique users\n",
      "97.csv: 2321 unique users\n",
      "98.csv: 2191 unique users\n",
      "99.csv: 2200 unique users\n"
     ]
    }
   ],
   "source": [
    "counts = count_unique_user_ids_per_csv(\"sharded_by_suffix\")\n",
    "for filename, count in counts.items():\n",
    "    print(f\"{filename}: {count} unique users\")"
   ]
  },
  {
   "cell_type": "markdown",
   "id": "0a9268f3",
   "metadata": {},
   "source": [
    "How many unique users Day 1?"
   ]
  },
  {
   "cell_type": "code",
   "execution_count": 10,
   "id": "4b6646e6",
   "metadata": {},
   "outputs": [
    {
     "name": "stdout",
     "output_type": "stream",
     "text": [
      "Total unique user_ids: 223108\n"
     ]
    }
   ],
   "source": [
    "# This is faster, but if there was a duplicate in sepearte files, for example 01 is in file 1 and file 2, it will overcount. I did not think this would be an issue since it is separated based on unique user ids.\n",
    "\n",
    "total_estimated = sum(counts.values())\n",
    "print(f\"Total unique user_ids: {total_estimated}\")"
   ]
  },
  {
   "cell_type": "code",
   "execution_count": 11,
   "id": "f9f183c2",
   "metadata": {},
   "outputs": [],
   "source": [
    "#There is this way to make sure, as you can see, we got the same output, but it does take longer since it goes through each chunk/file\n",
    "\n",
    "def count_total_unique_users(input_dir: str) -> int:\n",
    "    \"\"\"\n",
    "    Collects all user_ids from all CSVs in `input_dir` and returns the total unique count.\n",
    "    \"\"\"\n",
    "    input_path = Path(input_dir)\n",
    "    unique_users = set()\n",
    "\n",
    "    for file in input_path.glob(\"*.csv\"):\n",
    "        try:\n",
    "            df = pd.read_csv(file, usecols=['user_id'])\n",
    "            unique_users.update(df['user_id'].unique())\n",
    "        except Exception as e:\n",
    "            print(f\"Error processing {file.name}: {e}\")\n",
    "\n",
    "    return len(unique_users)"
   ]
  },
  {
   "cell_type": "code",
   "execution_count": 12,
   "id": "81201518",
   "metadata": {},
   "outputs": [
    {
     "name": "stdout",
     "output_type": "stream",
     "text": [
      "Total unique user_ids: 223108\n"
     ]
    }
   ],
   "source": [
    "total_unique = count_total_unique_users(\"sharded_by_suffix\")\n",
    "print(f\"Total unique user_ids: {total_unique}\")"
   ]
  },
  {
   "cell_type": "markdown",
   "id": "dfe88d05",
   "metadata": {},
   "source": [
    "How much did each customer spend on avg Day 1?"
   ]
  },
  {
   "cell_type": "code",
   "execution_count": 13,
   "id": "47e55bc4",
   "metadata": {},
   "outputs": [],
   "source": [
    "def compute_average_spend_per_user(input_dir: str) -> pd.DataFrame:\n",
    "    \"\"\"\n",
    "    Computes average spending per user from all CSVs in `input_dir`.\n",
    "    Returns a DataFrame sorted by average spend (descending).\n",
    "    \"\"\"\n",
    "    input_path = Path(input_dir)\n",
    "    total_spend = defaultdict(float)\n",
    "    count = defaultdict(int)\n",
    "    for file in input_path.glob(\"*.csv\"):\n",
    "        try:\n",
    "            df = pd.read_csv(file, usecols=['user_id', 'price', 'event_type'])\n",
    "            df = df[df['event_type'] == 'purchase']\n",
    "            grouped = df.groupby('user_id')['price'].agg(['sum', 'count'])\n",
    "            for user_id, row in grouped.iterrows():\n",
    "                total_spend[user_id] += row['sum']\n",
    "                count[user_id] += row['count']\n",
    "        except Exception as e:\n",
    "            print(f\"Error processing {file.name}: {e}\")\n",
    "\n",
    "    # Create final DataFrame\n",
    "    data = {\n",
    "        'user_id': [],\n",
    "        'average_spend': []\n",
    "    }\n",
    "    for user_id in total_spend:\n",
    "        data['user_id'].append(user_id)\n",
    "        data['average_spend'].append(total_spend[user_id] / count[user_id])\n",
    "\n",
    "    df_result = pd.DataFrame(data)\n",
    "    df_result.sort_values(by='average_spend', ascending=False, inplace=True)\n",
    "    return df_result\n"
   ]
  },
  {
   "cell_type": "code",
   "execution_count": 14,
   "id": "ba280dff",
   "metadata": {},
   "outputs": [
    {
     "name": "stdout",
     "output_type": "stream",
     "text": [
      "         user_id  average_spend\n",
      "3540   556418321        2574.04\n",
      "8587   561277952        2570.18\n",
      "5368   515819233        2496.59\n",
      "6389   547043839        2393.63\n",
      "14599  566411788        2393.63\n",
      "4990   562137230        2393.63\n",
      "2877   512375018        2180.21\n",
      "11364  524555769        2136.22\n",
      "13374  516690881        2064.02\n",
      "7137   512905944        2059.00\n"
     ]
    }
   ],
   "source": [
    "avg_spend_df = compute_average_spend_per_user(\"sharded_by_suffix\")\n",
    "print(avg_spend_df.head(10))  # Top 10 spenders"
   ]
  },
  {
   "cell_type": "code",
   "execution_count": 15,
   "id": "f32fe84e",
   "metadata": {},
   "outputs": [
    {
     "data": {
      "text/html": [
       "<div>\n",
       "<style scoped>\n",
       "    .dataframe tbody tr th:only-of-type {\n",
       "        vertical-align: middle;\n",
       "    }\n",
       "\n",
       "    .dataframe tbody tr th {\n",
       "        vertical-align: top;\n",
       "    }\n",
       "\n",
       "    .dataframe thead th {\n",
       "        text-align: right;\n",
       "    }\n",
       "</style>\n",
       "<table border=\"1\" class=\"dataframe\">\n",
       "  <thead>\n",
       "    <tr style=\"text-align: right;\">\n",
       "      <th></th>\n",
       "      <th>user_id</th>\n",
       "      <th>average_spend</th>\n",
       "    </tr>\n",
       "  </thead>\n",
       "  <tbody>\n",
       "    <tr>\n",
       "      <th>3782</th>\n",
       "      <td>513457523</td>\n",
       "      <td>3.71</td>\n",
       "    </tr>\n",
       "    <tr>\n",
       "      <th>2209</th>\n",
       "      <td>565985013</td>\n",
       "      <td>3.67</td>\n",
       "    </tr>\n",
       "    <tr>\n",
       "      <th>4488</th>\n",
       "      <td>562313427</td>\n",
       "      <td>3.58</td>\n",
       "    </tr>\n",
       "    <tr>\n",
       "      <th>1371</th>\n",
       "      <td>542178308</td>\n",
       "      <td>3.54</td>\n",
       "    </tr>\n",
       "    <tr>\n",
       "      <th>15633</th>\n",
       "      <td>525944695</td>\n",
       "      <td>3.35</td>\n",
       "    </tr>\n",
       "    <tr>\n",
       "      <th>7355</th>\n",
       "      <td>519095145</td>\n",
       "      <td>2.97</td>\n",
       "    </tr>\n",
       "    <tr>\n",
       "      <th>11521</th>\n",
       "      <td>518518970</td>\n",
       "      <td>2.93</td>\n",
       "    </tr>\n",
       "    <tr>\n",
       "      <th>15927</th>\n",
       "      <td>518260597</td>\n",
       "      <td>2.93</td>\n",
       "    </tr>\n",
       "    <tr>\n",
       "      <th>16358</th>\n",
       "      <td>565852799</td>\n",
       "      <td>2.72</td>\n",
       "    </tr>\n",
       "    <tr>\n",
       "      <th>11566</th>\n",
       "      <td>540372270</td>\n",
       "      <td>2.57</td>\n",
       "    </tr>\n",
       "    <tr>\n",
       "      <th>14412</th>\n",
       "      <td>552699087</td>\n",
       "      <td>2.51</td>\n",
       "    </tr>\n",
       "    <tr>\n",
       "      <th>9866</th>\n",
       "      <td>522045460</td>\n",
       "      <td>2.32</td>\n",
       "    </tr>\n",
       "    <tr>\n",
       "      <th>15349</th>\n",
       "      <td>540585193</td>\n",
       "      <td>1.61</td>\n",
       "    </tr>\n",
       "    <tr>\n",
       "      <th>5067</th>\n",
       "      <td>518338431</td>\n",
       "      <td>1.30</td>\n",
       "    </tr>\n",
       "    <tr>\n",
       "      <th>9738</th>\n",
       "      <td>544708659</td>\n",
       "      <td>1.29</td>\n",
       "    </tr>\n",
       "  </tbody>\n",
       "</table>\n",
       "</div>"
      ],
      "text/plain": [
       "         user_id  average_spend\n",
       "3782   513457523           3.71\n",
       "2209   565985013           3.67\n",
       "4488   562313427           3.58\n",
       "1371   542178308           3.54\n",
       "15633  525944695           3.35\n",
       "7355   519095145           2.97\n",
       "11521  518518970           2.93\n",
       "15927  518260597           2.93\n",
       "16358  565852799           2.72\n",
       "11566  540372270           2.57\n",
       "14412  552699087           2.51\n",
       "9866   522045460           2.32\n",
       "15349  540585193           1.61\n",
       "5067   518338431           1.30\n",
       "9738   544708659           1.29"
      ]
     },
     "execution_count": 15,
     "metadata": {},
     "output_type": "execute_result"
    }
   ],
   "source": [
    "avg_spend_df.tail(15)"
   ]
  },
  {
   "cell_type": "markdown",
   "id": "12b7ebff",
   "metadata": {},
   "source": [
    "The top 3 categories for the top 10 spenders"
   ]
  },
  {
   "cell_type": "code",
   "execution_count": 16,
   "id": "735ad14c",
   "metadata": {},
   "outputs": [],
   "source": [
    "def top_3_categories_per_top_users(input_dir: str, top_users: list) -> dict:\n",
    "    \"\"\"\n",
    "    For each user in `top_users`, find their top 3 most frequent category_code values.\n",
    "    Returns: {user_id: [(category_code, count), ...], ...}\n",
    "    \"\"\"\n",
    "    input_path = Path(input_dir)\n",
    "    user_categories = {uid: Counter() for uid in top_users}\n",
    "\n",
    "    for file in input_path.glob(\"*.csv\"):\n",
    "        try:\n",
    "            df = pd.read_csv(file, usecols=['user_id', 'category_code'])\n",
    "            df = df[df['user_id'].isin(top_users)]\n",
    "            for uid, group in df.groupby('user_id'):\n",
    "                user_categories[uid].update(group['category_code'].dropna())\n",
    "        except Exception as e:\n",
    "            print(f\"Error processing {file.name}: {e}\")\n",
    "    \n",
    "    # Extract top 3 per user\n",
    "    top_3_per_user = {\n",
    "        uid: user_categories[uid].most_common(3)\n",
    "        for uid in top_users\n",
    "    }\n",
    "    return top_3_per_user"
   ]
  },
  {
   "cell_type": "code",
   "execution_count": 17,
   "id": "e0536c03",
   "metadata": {},
   "outputs": [
    {
     "name": "stdout",
     "output_type": "stream",
     "text": [
      "\n",
      "User 556418321 - Top Categories:\n",
      "  computers.notebook (28 times)\n",
      "\n",
      "User 561277952 - Top Categories:\n",
      "  computers.notebook (20 times)\n",
      "  electronics.smartphone (4 times)\n",
      "  electronics.audio.acoustic (4 times)\n",
      "\n",
      "User 515819233 - Top Categories:\n",
      "  computers.notebook (8 times)\n",
      "\n",
      "User 547043839 - Top Categories:\n",
      "  computers.desktop (16 times)\n",
      "\n",
      "User 566411788 - Top Categories:\n",
      "  computers.desktop (24 times)\n",
      "\n",
      "User 562137230 - Top Categories:\n",
      "  computers.desktop (24 times)\n",
      "\n",
      "User 512375018 - Top Categories:\n",
      "\n",
      "User 524555769 - Top Categories:\n",
      "  electronics.video.tv (12 times)\n",
      "\n",
      "User 516690881 - Top Categories:\n",
      "  computers.desktop (8 times)\n",
      "\n",
      "User 512905944 - Top Categories:\n",
      "  computers.notebook (16 times)\n",
      "\n",
      "User 566407162 - Top Categories:\n",
      "  electronics.smartphone (32 times)\n",
      "\n",
      "User 513990971 - Top Categories:\n",
      "  electronics.smartphone (16 times)\n",
      "\n",
      "User 519150704 - Top Categories:\n",
      "  electronics.smartphone (12 times)\n",
      "\n",
      "User 519518547 - Top Categories:\n",
      "  electronics.smartphone (12 times)\n",
      "\n",
      "User 525535480 - Top Categories:\n",
      "  electronics.smartphone (12 times)\n"
     ]
    }
   ],
   "source": [
    "#It seems there is only one think they were looking at\n",
    "\n",
    "top_spenders = avg_spend_df.head(15)['user_id'].tolist()\n",
    "top_categories = top_3_categories_per_top_users(\"sharded_by_suffix\", top_spenders)\n",
    "\n",
    "for uid, categories in top_categories.items():\n",
    "    print(f\"\\nUser {uid} - Top Categories:\")\n",
    "    for cat, count in categories:\n",
    "        print(f\"  {cat} ({count} times)\")"
   ]
  },
  {
   "cell_type": "code",
   "execution_count": 18,
   "id": "ce82d167",
   "metadata": {},
   "outputs": [],
   "source": [
    "#now it should be just what they purchased\n",
    "\n",
    "def top_3_categories_per_top_users(input_dir: str, top_users: list) -> dict:\n",
    "    \"\"\"\n",
    "    For each user in `top_users`, find their top 3 most frequent category_code values.\n",
    "    Returns: {user_id: [(category_code, count), ...], ...}\n",
    "    \"\"\"\n",
    "    input_path = Path(input_dir)\n",
    "    user_categories = {uid: Counter() for uid in top_users}\n",
    "\n",
    "    for file in input_path.glob(\"*.csv\"):\n",
    "        try:\n",
    "            df = pd.read_csv(file, usecols=['user_id', 'category_code', 'event_type'])\n",
    "            df = df[df['event_type'] == 'purchase']\n",
    "            df = df[df['user_id'].isin(top_users)]\n",
    "            for uid, group in df.groupby('user_id'):\n",
    "                user_categories[uid].update(group['category_code'].dropna())\n",
    "        except Exception as e:\n",
    "            print(f\"Error processing {file.name}: {e}\")\n",
    "    \n",
    "    # Extract top 3 per user\n",
    "    top_3_per_user = {\n",
    "        uid: user_categories[uid].most_common(3)\n",
    "        for uid in top_users\n",
    "    }\n",
    "    return top_3_per_user"
   ]
  },
  {
   "cell_type": "code",
   "execution_count": 19,
   "id": "7871d9ab",
   "metadata": {},
   "outputs": [
    {
     "name": "stdout",
     "output_type": "stream",
     "text": [
      "\n",
      "User 556418321 - Top Categories:\n",
      "  computers.notebook (4 times)\n",
      "\n",
      "User 561277952 - Top Categories:\n",
      "  computers.notebook (4 times)\n",
      "\n",
      "User 515819233 - Top Categories:\n",
      "  computers.notebook (4 times)\n",
      "\n",
      "User 547043839 - Top Categories:\n",
      "  computers.desktop (4 times)\n",
      "\n",
      "User 566411788 - Top Categories:\n",
      "  computers.desktop (12 times)\n",
      "\n",
      "User 562137230 - Top Categories:\n",
      "  computers.desktop (8 times)\n",
      "\n",
      "User 512375018 - Top Categories:\n",
      "\n",
      "User 524555769 - Top Categories:\n",
      "  electronics.video.tv (4 times)\n",
      "\n",
      "User 516690881 - Top Categories:\n",
      "  computers.desktop (4 times)\n",
      "\n",
      "User 512905944 - Top Categories:\n",
      "  computers.notebook (4 times)\n",
      "\n",
      "User 566407162 - Top Categories:\n",
      "  electronics.smartphone (4 times)\n",
      "\n",
      "User 513990971 - Top Categories:\n",
      "  electronics.smartphone (4 times)\n",
      "\n",
      "User 519150704 - Top Categories:\n",
      "  electronics.smartphone (4 times)\n",
      "\n",
      "User 519518547 - Top Categories:\n",
      "  electronics.smartphone (4 times)\n",
      "\n",
      "User 525535480 - Top Categories:\n",
      "  electronics.smartphone (4 times)\n"
     ]
    }
   ],
   "source": [
    "top_spenders = avg_spend_df.head(15)['user_id'].tolist()\n",
    "top_categories = top_3_categories_per_top_users(\"sharded_by_suffix\", top_spenders)\n",
    "\n",
    "for uid, categories in top_categories.items():\n",
    "    print(f\"\\nUser {uid} - Top Categories:\")\n",
    "    for cat, count in categories:\n",
    "        print(f\"  {cat} ({count} times)\")"
   ]
  },
  {
   "cell_type": "code",
   "execution_count": 20,
   "id": "1844ac40",
   "metadata": {},
   "outputs": [
    {
     "data": {
      "text/plain": [
       "['view', 'cart', 'purchase']"
      ]
     },
     "execution_count": 20,
     "metadata": {},
     "output_type": "execute_result"
    }
   ],
   "source": [
    "list(df[\"event_type\"].unique())"
   ]
  },
  {
   "cell_type": "markdown",
   "id": "eb190fb1",
   "metadata": {},
   "source": [
    "What time are the top spenders most active day 1?"
   ]
  },
  {
   "cell_type": "code",
   "execution_count": 21,
   "id": "f5e79810",
   "metadata": {},
   "outputs": [],
   "source": [
    "def hourly_purchase_distribution(input_dir: str, top_users: list) -> dict:\n",
    "    \"\"\"\n",
    "    For each user in `top_users`, compute a histogram of purchase hours (0–23).\n",
    "    Returns: {user_id: Counter({hour: count, ...}), ...}\n",
    "    \"\"\"\n",
    "    input_path = Path(input_dir)\n",
    "    user_activity = {uid: Counter() for uid in top_users}\n",
    "\n",
    "    for file in input_path.glob(\"*.csv\"):\n",
    "        try:\n",
    "            df = pd.read_csv(file, usecols=['user_id', 'event_type', 'event_time'])\n",
    "            df = df[df['event_type'] == 'purchase']\n",
    "            df = df[df['user_id'].isin(top_users)]\n",
    "            df['event_time'] = pd.to_datetime(df['event_time'], utc=True, errors='coerce')\n",
    "            df['hour'] = df['event_time'].dt.hour\n",
    "\n",
    "            for uid, group in df.groupby('user_id'):\n",
    "                user_activity[uid].update(group['hour'].dropna().astype(int))\n",
    "        except Exception as e:\n",
    "            print(f\"Error processing {file.name}: {e}\")\n",
    "\n",
    "    return user_activity"
   ]
  },
  {
   "cell_type": "code",
   "execution_count": 22,
   "id": "3d652453",
   "metadata": {},
   "outputs": [
    {
     "name": "stdout",
     "output_type": "stream",
     "text": [
      "User 556418321 - Most active at hour 8 (4 purchases)\n",
      "User 561277952 - Most active at hour 17 (4 purchases)\n",
      "User 515819233 - Most active at hour 14 (4 purchases)\n",
      "User 547043839 - Most active at hour 9 (4 purchases)\n",
      "User 566411788 - Most active at hour 10 (12 purchases)\n",
      "User 562137230 - Most active at hour 8 (4 purchases)\n",
      "User 512375018 - Most active at hour 6 (4 purchases)\n",
      "User 524555769 - Most active at hour 8 (4 purchases)\n",
      "User 516690881 - Most active at hour 8 (4 purchases)\n",
      "User 512905944 - Most active at hour 5 (4 purchases)\n",
      "User 566407162 - Most active at hour 10 (4 purchases)\n",
      "User 513990971 - Most active at hour 3 (4 purchases)\n",
      "User 519150704 - Most active at hour 11 (4 purchases)\n",
      "User 519518547 - Most active at hour 5 (4 purchases)\n",
      "User 525535480 - Most active at hour 13 (4 purchases)\n"
     ]
    }
   ],
   "source": [
    "hourly_activity = hourly_purchase_distribution(\"sharded_by_suffix\", top_spenders)\n",
    "\n",
    "for uid, hour_counts in hourly_activity.items():\n",
    "    top_hour = hour_counts.most_common(1)[0]\n",
    "    print(f\"User {uid} - Most active at hour {top_hour[0]} ({top_hour[1]} purchases)\")\n"
   ]
  },
  {
   "cell_type": "code",
   "execution_count": 23,
   "id": "709cebd7",
   "metadata": {},
   "outputs": [],
   "source": [
    "def plot_user_hourly_activity(user_id, hour_counts):\n",
    "    hours = list(range(24))\n",
    "    counts = [hour_counts.get(h, 0) for h in hours]\n",
    "    plt.bar(hours, counts)\n",
    "    plt.title(f\"Hourly Purchase Activity for User {user_id}\")\n",
    "    plt.xlabel(\"Hour of Day (UTC)\")\n",
    "    plt.ylabel(\"Number of Purchases\")\n",
    "    plt.xticks(hours)\n",
    "    plt.grid(True)\n",
    "    plt.show()"
   ]
  },
  {
   "cell_type": "code",
   "execution_count": 24,
   "id": "a01744ad",
   "metadata": {},
   "outputs": [
    {
     "data": {
      "image/png": "[encoded data removed]",
      "text/plain": [
       "<Figure size 640x480 with 1 Axes>"
      ]
     },
     "metadata": {},
     "output_type": "display_data"
    }
   ],
   "source": [
    "plot_user_hourly_activity(top_spenders[5], hourly_activity[top_spenders[5]])"
   ]
  },
  {
   "cell_type": "markdown",
   "id": "294dd798",
   "metadata": {},
   "source": [
    "What time are spenders most active Day 1?"
   ]
  },
  {
   "cell_type": "code",
   "execution_count": 25,
   "id": "05739134",
   "metadata": {},
   "outputs": [],
   "source": [
    "def unique_users_per_purchase_hour(input_dir: str) -> pd.Series:\n",
    "    \"\"\"\n",
    "    Computes number of unique users making purchases for each hour (0–23).\n",
    "    Returns: pandas Series {hour: unique_user_count}\n",
    "    \"\"\"\n",
    "    input_path = Path(input_dir)\n",
    "    hour_user_set = defaultdict(set)\n",
    "\n",
    "    for file in input_path.glob(\"*.csv\"):\n",
    "        try:\n",
    "            df = pd.read_csv(file, usecols=['user_id', 'event_type', 'event_time'])\n",
    "            df = df[df['event_type'] == 'purchase']\n",
    "            df['event_time'] = pd.to_datetime(df['event_time'], utc=True, errors='coerce')\n",
    "            df['hour'] = df['event_time'].dt.hour\n",
    "            for hour, group in df.groupby('hour'):\n",
    "                hour_user_set[hour].update(group['user_id'])\n",
    "        except Exception as e:\n",
    "            print(f\"Error processing {file.name}: {e}\")\n",
    "\n",
    "    return pd.Series({hour: len(users) for hour, users in hour_user_set.items()}).sort_index()"
   ]
  },
  {
   "cell_type": "code",
   "execution_count": 26,
   "id": "4de39703",
   "metadata": {},
   "outputs": [],
   "source": [
    "def plot_unique_user_purchase_hours(series: pd.Series):\n",
    "    plt.bar(series.index, series.values)\n",
    "    plt.title(\"Unique Users Making Purchases by Hour (UTC)\")\n",
    "    plt.xlabel(\"Hour of Day\")\n",
    "    plt.ylabel(\"Number of Unique Users\")\n",
    "    plt.xticks(range(24))\n",
    "    plt.grid(True)\n",
    "    plt.tight_layout()\n",
    "    plt.show()"
   ]
  },
  {
   "cell_type": "code",
   "execution_count": 27,
   "id": "eff95a96",
   "metadata": {},
   "outputs": [
    {
     "data": {
      "image/png": "[encoded data removed]",
      "text/plain": [
       "<Figure size 640x480 with 1 Axes>"
      ]
     },
     "metadata": {},
     "output_type": "display_data"
    }
   ],
   "source": [
    "hourly_user_counts = unique_users_per_purchase_hour(\"sharded_by_suffix\")\n",
    "plot_unique_user_purchase_hours(hourly_user_counts)"
   ]
  },
  {
   "cell_type": "markdown",
   "id": "082774d7",
   "metadata": {},
   "source": [
    "Create dataset for Model"
   ]
  },
  {
   "cell_type": "code",
   "execution_count": 28,
   "id": "329f455b",
   "metadata": {},
   "outputs": [],
   "source": [
    "def create_labeled_session_dataset(input_dir: str) -> pd.DataFrame:\n",
    "    \"\"\"\n",
    "    Generates a DataFrame where each row represents a user_session, with features and a label (1 if purchase occurred).\n",
    "    \"\"\"\n",
    "    input_path = Path(input_dir)\n",
    "    session_records = []\n",
    "\n",
    "    for file in input_path.glob(\"*.csv\"):\n",
    "        try:\n",
    "            df = pd.read_csv(file, usecols=[\n",
    "                'user_id', 'user_session', 'event_time', 'event_type',\n",
    "                'product_id', 'category_code', 'price'\n",
    "            ])\n",
    "            df['event_time'] = pd.to_datetime(df['event_time'], utc=True, errors='coerce')\n",
    "            df.dropna(subset=['event_time', 'user_session'], inplace=True)\n",
    "\n",
    "            for session_id, group in df.groupby('user_session'):\n",
    "                group_sorted = group.sort_values('event_time')\n",
    "                session_start = group_sorted['event_time'].min()\n",
    "                session_end = group_sorted['event_time'].max()\n",
    "\n",
    "                features = {\n",
    "                    'user_session': session_id,\n",
    "                    'user_id': group_sorted['user_id'].iloc[0],\n",
    "                    'session_start': session_start,\n",
    "                    'session_end': session_end,\n",
    "                    'session_duration_sec': (session_end - session_start).total_seconds(),\n",
    "                    'num_events': len(group),\n",
    "                    'num_products_viewed': group['product_id'].nunique(),\n",
    "                    'num_categories_viewed': group['category_code'].nunique(),\n",
    "                    'avg_price_viewed': group['price'].mean(),\n",
    "                    'hour_of_day': session_start.hour,\n",
    "                    'has_purchase': int('purchase' in group['event_type'].values)\n",
    "                }\n",
    "\n",
    "                session_records.append(features)\n",
    "        except Exception as e:\n",
    "            print(f\"Error processing {file.name}: {e}\")\n",
    "\n",
    "    return pd.DataFrame(session_records)"
   ]
  },
  {
   "cell_type": "code",
   "execution_count": 29,
   "id": "5ac98d47",
   "metadata": {},
   "outputs": [],
   "source": [
    "df_sessions = create_labeled_session_dataset(\"sharded_by_suffix\")\n",
    "df_sessions.to_csv(\"labeled_sessions.csv\", index=False)  # Or .csv"
   ]
  },
  {
   "cell_type": "code",
   "execution_count": 30,
   "id": "63edd9a3",
   "metadata": {},
   "outputs": [
    {
     "data": {
      "text/html": [
       "<div>\n",
       "<style scoped>\n",
       "    .dataframe tbody tr th:only-of-type {\n",
       "        vertical-align: middle;\n",
       "    }\n",
       "\n",
       "    .dataframe tbody tr th {\n",
       "        vertical-align: top;\n",
       "    }\n",
       "\n",
       "    .dataframe thead th {\n",
       "        text-align: right;\n",
       "    }\n",
       "</style>\n",
       "<table border=\"1\" class=\"dataframe\">\n",
       "  <thead>\n",
       "    <tr style=\"text-align: right;\">\n",
       "      <th></th>\n",
       "      <th>user_session</th>\n",
       "      <th>user_id</th>\n",
       "      <th>session_start</th>\n",
       "      <th>session_end</th>\n",
       "      <th>session_duration_sec</th>\n",
       "      <th>num_events</th>\n",
       "      <th>num_products_viewed</th>\n",
       "      <th>num_categories_viewed</th>\n",
       "      <th>avg_price_viewed</th>\n",
       "      <th>hour_of_day</th>\n",
       "      <th>has_purchase</th>\n",
       "    </tr>\n",
       "  </thead>\n",
       "  <tbody>\n",
       "    <tr>\n",
       "      <th>0</th>\n",
       "      <td>00168770-905d-4833-a68c-fdda54e2d166</td>\n",
       "      <td>513607400</td>\n",
       "      <td>2019-11-01 05:48:43+00:00</td>\n",
       "      <td>2019-11-01 05:51:01+00:00</td>\n",
       "      <td>138.0</td>\n",
       "      <td>8</td>\n",
       "      <td>2</td>\n",
       "      <td>2</td>\n",
       "      <td>58.29</td>\n",
       "      <td>5</td>\n",
       "      <td>0</td>\n",
       "    </tr>\n",
       "    <tr>\n",
       "      <th>1</th>\n",
       "      <td>0024cdd8-37be-4da4-bbfa-2a55d0145b78</td>\n",
       "      <td>566596800</td>\n",
       "      <td>2019-11-01 21:20:46+00:00</td>\n",
       "      <td>2019-11-01 21:23:44+00:00</td>\n",
       "      <td>178.0</td>\n",
       "      <td>8</td>\n",
       "      <td>1</td>\n",
       "      <td>1</td>\n",
       "      <td>242.13</td>\n",
       "      <td>21</td>\n",
       "      <td>0</td>\n",
       "    </tr>\n",
       "    <tr>\n",
       "      <th>2</th>\n",
       "      <td>0025c102-41fb-48a2-861a-9607595df34e</td>\n",
       "      <td>537586000</td>\n",
       "      <td>2019-11-01 08:55:30+00:00</td>\n",
       "      <td>2019-11-01 08:55:30+00:00</td>\n",
       "      <td>0.0</td>\n",
       "      <td>4</td>\n",
       "      <td>1</td>\n",
       "      <td>1</td>\n",
       "      <td>26.90</td>\n",
       "      <td>8</td>\n",
       "      <td>0</td>\n",
       "    </tr>\n",
       "    <tr>\n",
       "      <th>3</th>\n",
       "      <td>0041b48c-396f-4afe-91e5-66d575d8ca23</td>\n",
       "      <td>512470700</td>\n",
       "      <td>2019-11-01 07:17:45+00:00</td>\n",
       "      <td>2019-11-01 07:17:45+00:00</td>\n",
       "      <td>0.0</td>\n",
       "      <td>4</td>\n",
       "      <td>1</td>\n",
       "      <td>1</td>\n",
       "      <td>32.18</td>\n",
       "      <td>7</td>\n",
       "      <td>0</td>\n",
       "    </tr>\n",
       "    <tr>\n",
       "      <th>4</th>\n",
       "      <td>005e1bbc-1365-4bcd-a57e-d74e32839d2f</td>\n",
       "      <td>566604500</td>\n",
       "      <td>2019-11-01 22:08:59+00:00</td>\n",
       "      <td>2019-11-01 22:08:59+00:00</td>\n",
       "      <td>0.0</td>\n",
       "      <td>4</td>\n",
       "      <td>1</td>\n",
       "      <td>1</td>\n",
       "      <td>1342.40</td>\n",
       "      <td>22</td>\n",
       "      <td>0</td>\n",
       "    </tr>\n",
       "  </tbody>\n",
       "</table>\n",
       "</div>"
      ],
      "text/plain": [
       "                           user_session    user_id             session_start  \\\n",
       "0  00168770-905d-4833-a68c-fdda54e2d166  513607400 2019-11-01 05:48:43+00:00   \n",
       "1  0024cdd8-37be-4da4-bbfa-2a55d0145b78  566596800 2019-11-01 21:20:46+00:00   \n",
       "2  0025c102-41fb-48a2-861a-9607595df34e  537586000 2019-11-01 08:55:30+00:00   \n",
       "3  0041b48c-396f-4afe-91e5-66d575d8ca23  512470700 2019-11-01 07:17:45+00:00   \n",
       "4  005e1bbc-1365-4bcd-a57e-d74e32839d2f  566604500 2019-11-01 22:08:59+00:00   \n",
       "\n",
       "                session_end  session_duration_sec  num_events  \\\n",
       "0 2019-11-01 05:51:01+00:00                 138.0           8   \n",
       "1 2019-11-01 21:23:44+00:00                 178.0           8   \n",
       "2 2019-11-01 08:55:30+00:00                   0.0           4   \n",
       "3 2019-11-01 07:17:45+00:00                   0.0           4   \n",
       "4 2019-11-01 22:08:59+00:00                   0.0           4   \n",
       "\n",
       "   num_products_viewed  num_categories_viewed  avg_price_viewed  hour_of_day  \\\n",
       "0                    2                      2             58.29            5   \n",
       "1                    1                      1            242.13           21   \n",
       "2                    1                      1             26.90            8   \n",
       "3                    1                      1             32.18            7   \n",
       "4                    1                      1           1342.40           22   \n",
       "\n",
       "   has_purchase  \n",
       "0             0  \n",
       "1             0  \n",
       "2             0  \n",
       "3             0  \n",
       "4             0  "
      ]
     },
     "execution_count": 30,
     "metadata": {},
     "output_type": "execute_result"
    }
   ],
   "source": [
    "df_sessions.head()"
   ]
  },
  {
   "cell_type": "markdown",
   "id": "5d71e530",
   "metadata": {},
   "source": [
    "Model to predict if user session results in a purchase"
   ]
  },
  {
   "cell_type": "code",
   "execution_count": 31,
   "id": "1942289a",
   "metadata": {},
   "outputs": [],
   "source": [
    "# Load the session-level dataset\n",
    "df = pd.read_csv(\"labeled_sessions.csv\")  # or .csv if saved as CSV\n",
    "\n",
    "# Drop sessions with missing target label or extreme values\n",
    "df = df.dropna(subset=['has_purchase'])\n",
    "\n",
    "# Features and label\n",
    "feature_cols = [\n",
    "    'session_duration_sec',\n",
    "    'num_events',\n",
    "    'num_products_viewed',\n",
    "    'num_categories_viewed',\n",
    "    'avg_price_viewed',\n",
    "    'hour_of_day'\n",
    "]\n",
    "X = df[feature_cols]\n",
    "y = df['has_purchase']"
   ]
  },
  {
   "cell_type": "code",
   "execution_count": 32,
   "id": "fe832da4",
   "metadata": {},
   "outputs": [],
   "source": [
    "X_train, X_test, y_train, y_test = train_test_split(\n",
    "    X, y, stratify=y, test_size=0.2, random_state=42\n",
    ")\n",
    "\n",
    "scaler = StandardScaler()\n",
    "X_train_scaled = scaler.fit_transform(X_train)\n",
    "X_test_scaled = scaler.transform(X_test)"
   ]
  },
  {
   "cell_type": "code",
   "execution_count": 33,
   "id": "e297d146",
   "metadata": {},
   "outputs": [
    {
     "data": {
      "text/html": [
       "<style>#sk-container-id-1 {color: black;}#sk-container-id-1 pre{padding: 0;}#sk-container-id-1 div.sk-toggleable {background-color: white;}#sk-container-id-1 label.sk-toggleable__label {cursor: pointer;display: block;width: 100%;margin-bottom: 0;padding: 0.3em;box-sizing: border-box;text-align: center;}#sk-container-id-1 label.sk-toggleable__label-arrow:before {content: \"▸\";float: left;margin-right: 0.25em;color: #696969;}#sk-container-id-1 label.sk-toggleable__label-arrow:hover:before {color: black;}#sk-container-id-1 div.sk-estimator:hover label.sk-toggleable__label-arrow:before {color: black;}#sk-container-id-1 div.sk-toggleable__content {max-height: 0;max-width: 0;overflow: hidden;text-align: left;background-color: #f0f8ff;}#sk-container-id-1 div.sk-toggleable__content pre {margin: 0.2em;color: black;border-radius: 0.25em;background-color: #f0f8ff;}#sk-container-id-1 input.sk-toggleable__control:checked~div.sk-toggleable__content {max-height: 200px;max-width: 100%;overflow: auto;}#sk-container-id-1 input.sk-toggleable__control:checked~label.sk-toggleable__label-arrow:before {content: \"▾\";}#sk-container-id-1 div.sk-estimator input.sk-toggleable__control:checked~label.sk-toggleable__label {background-color: #d4ebff;}#sk-container-id-1 div.sk-label input.sk-toggleable__control:checked~label.sk-toggleable__label {background-color: #d4ebff;}#sk-container-id-1 input.sk-hidden--visually {border: 0;clip: rect(1px 1px 1px 1px);clip: rect(1px, 1px, 1px, 1px);height: 1px;margin: -1px;overflow: hidden;padding: 0;position: absolute;width: 1px;}#sk-container-id-1 div.sk-estimator {font-family: monospace;background-color: #f0f8ff;border: 1px dotted black;border-radius: 0.25em;box-sizing: border-box;margin-bottom: 0.5em;}#sk-container-id-1 div.sk-estimator:hover {background-color: #d4ebff;}#sk-container-id-1 div.sk-parallel-item::after {content: \"\";width: 100%;border-bottom: 1px solid gray;flex-grow: 1;}#sk-container-id-1 div.sk-label:hover label.sk-toggleable__label {background-color: #d4ebff;}#sk-container-id-1 div.sk-serial::before {content: \"\";position: absolute;border-left: 1px solid gray;box-sizing: border-box;top: 0;bottom: 0;left: 50%;z-index: 0;}#sk-container-id-1 div.sk-serial {display: flex;flex-direction: column;align-items: center;background-color: white;padding-right: 0.2em;padding-left: 0.2em;position: relative;}#sk-container-id-1 div.sk-item {position: relative;z-index: 1;}#sk-container-id-1 div.sk-parallel {display: flex;align-items: stretch;justify-content: center;background-color: white;position: relative;}#sk-container-id-1 div.sk-item::before, #sk-container-id-1 div.sk-parallel-item::before {content: \"\";position: absolute;border-left: 1px solid gray;box-sizing: border-box;top: 0;bottom: 0;left: 50%;z-index: -1;}#sk-container-id-1 div.sk-parallel-item {display: flex;flex-direction: column;z-index: 1;position: relative;background-color: white;}#sk-container-id-1 div.sk-parallel-item:first-child::after {align-self: flex-end;width: 50%;}#sk-container-id-1 div.sk-parallel-item:last-child::after {align-self: flex-start;width: 50%;}#sk-container-id-1 div.sk-parallel-item:only-child::after {width: 0;}#sk-container-id-1 div.sk-dashed-wrapped {border: 1px dashed gray;margin: 0 0.4em 0.5em 0.4em;box-sizing: border-box;padding-bottom: 0.4em;background-color: white;}#sk-container-id-1 div.sk-label label {font-family: monospace;font-weight: bold;display: inline-block;line-height: 1.2em;}#sk-container-id-1 div.sk-label-container {text-align: center;}#sk-container-id-1 div.sk-container {/* jupyter's `normalize.less` sets `[hidden] { display: none; }` but bootstrap.min.css set `[hidden] { display: none !important; }` so we also need the `!important` here to be able to override the default hidden behavior on the sphinx rendered scikit-learn.org. See: https://github.com/scikit-learn/scikit-learn/issues/21755 */display: inline-block !important;position: relative;}#sk-container-id-1 div.sk-text-repr-fallback {display: none;}</style><div id=\"sk-container-id-1\" class=\"sk-top-container\"><div class=\"sk-text-repr-fallback\"><pre>GradientBoostingClassifier()</pre><b>In a Jupyter environment, please rerun this cell to show the HTML representation or trust the notebook. <br />On GitHub, the HTML representation is unable to render, please try loading this page with nbviewer.org.</b></div><div class=\"sk-container\" hidden><div class=\"sk-item\"><div class=\"sk-estimator sk-toggleable\"><input class=\"sk-toggleable__control sk-hidden--visually\" id=\"sk-estimator-id-1\" type=\"checkbox\" checked><label for=\"sk-estimator-id-1\" class=\"sk-toggleable__label sk-toggleable__label-arrow\">GradientBoostingClassifier</label><div class=\"sk-toggleable__content\"><pre>GradientBoostingClassifier()</pre></div></div></div></div></div>"
      ],
      "text/plain": [
       "GradientBoostingClassifier()"
      ]
     },
     "execution_count": 33,
     "metadata": {},
     "output_type": "execute_result"
    }
   ],
   "source": [
    "model = GradientBoostingClassifier()\n",
    "model.fit(X_train_scaled, y_train)"
   ]
  },
  {
   "cell_type": "code",
   "execution_count": 34,
   "id": "f1a4adc1",
   "metadata": {},
   "outputs": [
    {
     "name": "stdout",
     "output_type": "stream",
     "text": [
      "ROC AUC: 0.9245771353692971\n",
      "              precision    recall  f1-score   support\n",
      "\n",
      "           0       0.95      0.99      0.97     60341\n",
      "           1       0.60      0.21      0.31      3843\n",
      "\n",
      "    accuracy                           0.94     64184\n",
      "   macro avg       0.78      0.60      0.64     64184\n",
      "weighted avg       0.93      0.94      0.93     64184\n",
      "\n"
     ]
    }
   ],
   "source": [
    "y_pred = model.predict(X_test_scaled)\n",
    "y_prob = model.predict_proba(X_test_scaled)[:, 1]\n",
    "\n",
    "print(\"ROC AUC:\", roc_auc_score(y_test, y_prob))\n",
    "print(classification_report(y_test, y_pred))"
   ]
  },
  {
   "cell_type": "code",
   "execution_count": 35,
   "id": "913877bc",
   "metadata": {},
   "outputs": [
    {
     "data": {
      "text/plain": [
       "['scaler.joblib']"
      ]
     },
     "execution_count": 35,
     "metadata": {},
     "output_type": "execute_result"
    }
   ],
   "source": [
    "joblib.dump(model, \"conversion_predictor.joblib\")\n",
    "joblib.dump(scaler, \"scaler.joblib\")"
   ]
  },
  {
   "cell_type": "code",
   "execution_count": 36,
   "id": "c1e11805",
   "metadata": {},
   "outputs": [],
   "source": [
    "# Load labeled session features\n",
    "df = pd.read_csv(\"labeled_sessions.csv\")\n",
    "\n",
    "# Load model + scaler\n",
    "model = joblib.load(\"conversion_predictor.joblib\")\n",
    "scaler = joblib.load(\"scaler.joblib\")\n",
    "\n",
    "# Define features used in training\n",
    "feature_cols = [\n",
    "    'session_duration_sec',\n",
    "    'num_events',\n",
    "    'num_products_viewed',\n",
    "    'num_categories_viewed',\n",
    "    'avg_price_viewed',\n",
    "    'hour_of_day'\n",
    "]\n",
    "\n",
    "X = df[feature_cols]\n",
    "X_scaled = scaler.transform(X)\n",
    "probs = model.predict_proba(X_scaled)[:, 1]\n",
    "preds = (probs >= 0.5).astype(int)\n",
    "\n",
    "# Add predictions to DataFrame\n",
    "df['predicted_prob'] = probs\n",
    "df['predicted_label'] = preds\n",
    "\n",
    "# Save for evaluation\n",
    "df.to_csv(\"simulated_predictions.csv\", index=False)"
   ]
  },
  {
   "cell_type": "code",
   "execution_count": null,
   "id": "2284fc4e",
   "metadata": {},
   "outputs": [],
   "source": []
  }
 ],
 "metadata": {
  "kernelspec": {
   "display_name": "base",
   "language": "python",
   "name": "python3"
  },
  "language_info": {
   "codemirror_mode": {
    "name": "ipython",
    "version": 3
   },
   "file_extension": ".py",
   "mimetype": "text/x-python",
   "name": "python",
   "nbconvert_exporter": "python",
   "pygments_lexer": "ipython3",
   "version": "3.11.5"
  }
 },
 "nbformat": 4,
 "nbformat_minor": 5
}
